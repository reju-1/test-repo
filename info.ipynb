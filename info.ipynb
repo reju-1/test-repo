{
 "cells": [
  {
   "cell_type": "markdown",
   "id": "e4bda7a2",
   "metadata": {},
   "source": [
    "## Deep learning"
   ]
  },
  {
   "cell_type": "markdown",
   "id": "3624666b",
   "metadata": {},
   "source": [
    "![IMG](images/abc.png)"
   ]
  },
  {
   "cell_type": "markdown",
   "id": "39d9a9ec",
   "metadata": {},
   "source": [
    "NLP is FUN"
   ]
  }
 ],
 "metadata": {
  "language_info": {
   "name": "python"
  }
 },
 "nbformat": 4,
 "nbformat_minor": 5
}
